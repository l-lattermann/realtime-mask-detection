{
 "cells": [
  {
   "cell_type": "markdown",
   "metadata": {},
   "source": [
    "## Configure runtime"
   ]
  },
  {
   "cell_type": "code",
   "execution_count": null,
   "metadata": {
    "colab": {
     "base_uri": "https://localhost:8080/"
    },
    "executionInfo": {
     "elapsed": 1063,
     "status": "ok",
     "timestamp": 1737567960671,
     "user": {
      "displayName": "Laurenz",
      "userId": "11332033661176837552"
     },
     "user_tz": -60
    },
    "id": "8SOBNLeDk5Gh",
    "outputId": "251d5b51-2799-4613-b834-6e4f20649230"
   },
   "outputs": [],
   "source": [
    "!nvidia-smi\n",
    "!nproc\n",
    "!pip install roboflow\n",
    "!pip install ultralytics"
   ]
  },
  {
   "cell_type": "markdown",
   "metadata": {},
   "source": [
    "## Import modules"
   ]
  },
  {
   "cell_type": "code",
   "execution_count": null,
   "metadata": {},
   "outputs": [],
   "source": [
    "from IPython import display\n",
    "from IPython.display import display, Image\n",
    "import ultralytics\n",
    "from ultralytics import YOLO\n",
    "from roboflow import Roboflow\n",
    "from zipfile import error\n",
    "import shutil\n",
    "from google.colab import files"
   ]
  },
  {
   "cell_type": "markdown",
   "metadata": {},
   "source": [
    "## Perfom runtime checks"
   ]
  },
  {
   "cell_type": "code",
   "execution_count": null,
   "metadata": {
    "colab": {
     "base_uri": "https://localhost:8080/"
    },
    "executionInfo": {
     "elapsed": 10356,
     "status": "ok",
     "timestamp": 1737567971578,
     "user": {
      "displayName": "Laurenz",
      "userId": "11332033661176837552"
     },
     "user_tz": -60
    },
    "id": "CX7RQCLycGga",
    "outputId": "f2b0b531-27e0-44f3-c75d-8dbbdbbfdbb2"
   },
   "outputs": [],
   "source": [
    "# Hardware checks\n",
    "display.clear_output()\n",
    "ultralytics.checks()"
   ]
  },
  {
   "cell_type": "markdown",
   "metadata": {},
   "source": [
    "## Functions"
   ]
  },
  {
   "cell_type": "code",
   "execution_count": null,
   "metadata": {
    "colab": {
     "base_uri": "https://localhost:8080/"
    },
    "executionInfo": {
     "elapsed": 1744649,
     "status": "ok",
     "timestamp": 1737571132699,
     "user": {
      "displayName": "Laurenz",
      "userId": "11332033661176837552"
     },
     "user_tz": -60
    },
    "id": "QsxBfJNaILjm",
    "outputId": "f1783590-6bb5-48dd-8d26-ab7c6c314ea5"
   },
   "outputs": [],
   "source": [
    "def train_model(model_name, dataset):\n",
    "    \"\"\"\n",
    "    Train a YOLO model on dataset.\n",
    "\n",
    "    Parameters:\n",
    "    model_name (str): Ultralytics model name.\n",
    "    dataset (Roboflow): Roboflow dataset object.\n",
    "        \n",
    "    \"\"\"\n",
    "    # Load a model\n",
    "    model = YOLO(model_name+\".yaml\")  # build a new model from YAML\n",
    "    model = YOLO(model_name+\".pt\")  # load a pretrained model (recommended for training)\n",
    "    model = YOLO(model_name+\".yaml\").load(model_name+\".pt\")  # build from YAML and transfer weights\n",
    "\n",
    "    results = model.train(data=dataset.location+\"/data.yaml\", epochs=100, imgsz=640, device=0)\n",
    "    return results"
   ]
  },
  {
   "cell_type": "code",
   "execution_count": null,
   "metadata": {
    "colab": {
     "base_uri": "https://localhost:8080/",
     "height": 53
    },
    "id": "fMGPqiQmHNJy",
    "outputId": "16361223-4e00-41a6-8140-0e2c8b77bc7e"
   },
   "outputs": [],
   "source": [
    "def download_train_run(model_name):\n",
    "    \"\"\"\n",
    "    Down\n",
    "\n",
    "    Parameters:\n",
    "    model_name (str): Ultralytics model name.\n",
    "        \n",
    "    \"\"\"\n",
    "    # Compress the folder\n",
    "    try:\n",
    "        shutil.make_archive('/content/runs/'+model_name, 'zip', '/content/runs')\n",
    "    except error:\n",
    "        pass\n",
    "    # Download the zip file\n",
    "    try:\n",
    "        files.download('/content/runs/runs-'+model_name+'.zip')\n",
    "    except error:\n",
    "        pass"
   ]
  },
  {
   "cell_type": "markdown",
   "metadata": {},
   "source": [
    "## Train on person dataset"
   ]
  },
  {
   "cell_type": "code",
   "execution_count": null,
   "metadata": {
    "id": "PmXQd445cixC"
   },
   "outputs": [],
   "source": [
    "# Get Person detection Dataset\n",
    "rf = Roboflow(api_key=\"Os07aMfsZlQQUEVMtkjH\")\n",
    "project = rf.workspace(\"titulacin\").project(\"person-detection-9a6mk\")\n",
    "version = project.version(16)\n",
    "dataset = version.download(\"yolov8\")\n",
    "# https://universe.roboflow.com/titulacin/person-detection-9a6mk/dataset/16#\n",
    "\n",
    "\n",
    "# Train YoloV8n\n",
    "model_name = \"yolov8n\"\n",
    "results = train_model(model_name, dataset)\n",
    "download_train_run(model_name)\n",
    "!rm -rf /content/*  # Clear run files after download\n",
    "\n",
    "# Train Yolo11n\n",
    "model_name = \"yolo11n\"\n",
    "results = train_model(model_name, dataset)\n",
    "download_train_run(model_name)\n",
    "!rm -rf /content/*  # Clear run files after download\n"
   ]
  },
  {
   "cell_type": "markdown",
   "metadata": {},
   "source": [
    "## Train on mask dataset"
   ]
  },
  {
   "cell_type": "code",
   "execution_count": null,
   "metadata": {},
   "outputs": [],
   "source": [
    "# Get Face Mask Detection Dataset\n",
    "rf = Roboflow(api_key=\"Os07aMfsZlQQUEVMtkjH\")\n",
    "project = rf.workspace(\"group-tbd\").project(\"real-time-face-mask-detection-and-validation-system-dataset\")\n",
    "version = project.version(4)\n",
    "dataset = version.download(\"yolov8\")\n",
    "# https://universe.roboflow.com/group-tbd/real-time-face-mask-detection-and-validation-system-dataset/dataset/4#\n",
    "\n",
    "\n",
    "# Train YoloV8n\n",
    "model_name = \"yolov8n\"\n",
    "results = train_model(model_name, dataset)\n",
    "download_train_run(model_name)\n",
    "!rm -rf /content/*  # Clear run files after download\n",
    "\n",
    "# Train Yolo11n\n",
    "model_name = \"yolo11n\"\n",
    "results = train_model(model_name, dataset)\n",
    "download_train_run(model_name)\n",
    "!rm -rf /content/*  # Clear run files after download"
   ]
  }
 ],
 "metadata": {
  "accelerator": "GPU",
  "colab": {
   "authorship_tag": "ABX9TyOsjk1rd9yRsjBGL1KZn6Zb",
   "gpuType": "A100",
   "machine_shape": "hm",
   "provenance": []
  },
  "kernelspec": {
   "display_name": ".venv",
   "language": "python",
   "name": "python3"
  },
  "language_info": {
   "name": "python",
   "version": "3.9.6"
  }
 },
 "nbformat": 4,
 "nbformat_minor": 0
}
