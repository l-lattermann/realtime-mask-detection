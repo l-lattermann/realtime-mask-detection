{
 "cells": [
  {
   "cell_type": "markdown",
   "metadata": {},
   "source": [
    "## Imports"
   ]
  },
  {
   "cell_type": "code",
   "execution_count": 1,
   "metadata": {},
   "outputs": [],
   "source": [
    "from ultralytics import YOLO\n",
    "import cv2 \n",
    "from matplotlib import pyplot as plt\n",
    "import time\n",
    "import psutil"
   ]
  },
  {
   "cell_type": "markdown",
   "metadata": {},
   "source": [
    "## Load model "
   ]
  },
  {
   "cell_type": "code",
   "execution_count": 2,
   "metadata": {},
   "outputs": [],
   "source": [
    "# Load models\n",
    "v8n_person = YOLO(\"models/yolo/train_runs/yolov8n_person_100epochs/detect/train/weights/best.pt\")\n",
    "v8n_mask = YOLO(\"models/yolo/train_runs/yolov8n_mask_100epochs/train/weights/best.pt\")\n",
    "v11n_person = YOLO(\"models/yolo/train_runs/yolo11n_person_100epochs/train/weights/best.pt\")\n",
    "v11n_mask = YOLO(\"models/yolo/train_runs/yolo11n_mask_100epochs/train/weights/best.pt\")\n",
    "\n",
    "\n",
    "# Create model list\n",
    "model_dict = {\"v8n_person\":v8n_person, \"v8n_mask\":v8n_mask, \"v11n_person\":v11n_person, \"v11n_mask\":v11n_mask}"
   ]
  },
  {
   "cell_type": "markdown",
   "metadata": {},
   "source": [
    "## Test if model was loaded correctly"
   ]
  },
  {
   "cell_type": "code",
   "execution_count": 3,
   "metadata": {},
   "outputs": [],
   "source": [
    "# Function to plot result images\n",
    "def matplot_image(results: list, model_name: str):\n",
    "    \"\"\"\n",
    "        Display the image using matplotlib\n",
    "        :param results: list of results from the model\n",
    "        :param model_name: name of the model\n",
    "    \"\"\"\n",
    "\n",
    "    im  = results[0].plot()\n",
    "    # Convert BGR (OpenCV format) to RGB (matplotlib format)\n",
    "    im_rgb = cv2.cvtColor(im, cv2.COLOR_BGR2RGB)\n",
    "\n",
    "    # Add model name to the image\n",
    "    plt.title(model_name)\n",
    "\n",
    "    # Display the image using matplotlib\n",
    "    plt.imshow(im_rgb)\n",
    "    plt.axis(\"off\")  # Turn off axes for a cleaner display\n",
    "    plt.show()\n"
   ]
  },
  {
   "cell_type": "code",
   "execution_count": 4,
   "metadata": {},
   "outputs": [],
   "source": [
    "# Set confidence and IOU threshold\n",
    "conf = 0.3\n",
    "iou = 0.3\n",
    "\n",
    "# Test models\n",
    "for model_name, model in model_dict.items():\n",
    "    for i in range(3):\n",
    "        results = model.predict(f\"data_sets/image_data/mask_person_test/{i}.jpg\", conf=conf, iou=iou, verbose=False)\n",
    "\n",
    "        # Show results\n",
    "        #matplot_image(results, model_name)"
   ]
  },
  {
   "cell_type": "markdown",
   "metadata": {},
   "source": [
    "## Get RAM usage"
   ]
  },
  {
   "cell_type": "code",
   "execution_count": 5,
   "metadata": {},
   "outputs": [],
   "source": [
    "# Get RAM usage\n",
    "def get_ram_usage():\n",
    "    \"\"\"\n",
    "        Get the RAM usage of the system\n",
    "        :return: RAM usage in MB\n",
    "    \"\"\"\n",
    "\n",
    "\n",
    "    # Get current process\n",
    "    process = psutil.Process()\n",
    "\n",
    "    # Get memory usage in bytes and convert to MB\n",
    "    return process.memory_info().rss / (1024 ** 2)  # Resident Set Size (RSS)\n",
    "    "
   ]
  },
  {
   "cell_type": "markdown",
   "metadata": {},
   "source": [
    "## Put stats bar on frame"
   ]
  },
  {
   "cell_type": "code",
   "execution_count": 6,
   "metadata": {},
   "outputs": [],
   "source": [
    "# Put stats bar on frame\n",
    "def put_stats_bar(frame, stats_dict: dict, bar_height=30,font_scale=0.5, font_thickness=1):\n",
    "    \"\"\"\n",
    "        Add a stats bar at the bottom of the frame\n",
    "        :param frame: frame to add the stats bar to\n",
    "        :param t0_inf: start time of inference\n",
    "        :param t1_inf: end time of inference\n",
    "        :param t0_ann: start time of annotation\n",
    "        :param t1_ann: end time of annotation\n",
    "        :param loop_time: time taken to process the frame\n",
    "        :param bar_height: height of the stats bar\n",
    "        :param font_scale: font scale of the text\n",
    "        :param font_thickness: font thickness of the text\n",
    "    \"\"\"\n",
    "    stats_text = \"\"\n",
    "    # Convert stats dict to text\n",
    "    for stat_name, stat in stats_dict.items():\n",
    "        stats_text += f\"{stat_name}: {stat:.2f}  \"\n",
    "    \n",
    "        \n",
    "    # Add a rectangle at the bottom of the frame\n",
    "    h, w, _ = frame.shape  # Get frame dimensions\n",
    "    cv2.rectangle(frame, (0, h - bar_height), (w, h), (0, 0, 0), -1)  # Black rectangle\n",
    "\n",
    "    # Add text inside the rectangle\n",
    "    text_color = (255, 255, 255)  # White text\n",
    "    cv2.putText(frame, stats_text, (10, h - 10), cv2.FONT_HERSHEY_SIMPLEX, font_scale, text_color, font_thickness)"
   ]
  },
  {
   "cell_type": "markdown",
   "metadata": {},
   "source": [
    "## Put bounding boxes"
   ]
  },
  {
   "cell_type": "code",
   "execution_count": 7,
   "metadata": {},
   "outputs": [],
   "source": [
    "def put_bounding_boxes(frame, result, model, colorcode=(0,255,0), color_static=True):\n",
    "\n",
    "    for i in range(len(result[0].boxes.cls)):\n",
    "        x1, y1, x2, y2 = map(int, result[0].boxes.xyxy[i])\n",
    "        clss, conf = result[0].boxes.cls[i], result[0].boxes.conf[i]\n",
    "        text = f\"{model.names[int(clss)]} ({conf:.2f})\"\n",
    "\n",
    "        if not color_static:\n",
    "            if int(clss) == 0:\n",
    "                colorcode = (255, 165, 0)\n",
    "            elif int(clss) == 1:\n",
    "                colorcode = (0, 0, 255)\n",
    "            elif int(clss) == 2:\n",
    "                colorcode = (0,255,0)\n",
    "        cv2.rectangle(frame, (x1, y1), (x2, y2), colorcode, 2)  # Red for model 2\n",
    "        cv2.putText(frame, text, (x1, y1 - 10), cv2.FONT_HERSHEY_SIMPLEX, 1, colorcode, 2)"
   ]
  },
  {
   "cell_type": "markdown",
   "metadata": {},
   "source": [
    "## Put distance mesure line"
   ]
  },
  {
   "cell_type": "code",
   "execution_count": 8,
   "metadata": {},
   "outputs": [],
   "source": [
    "def put_distance_line(frame, result, distance_threshold=150, avg_mask_box_size=25):\n",
    "    \n",
    "    boxes = []   # Set to store bounding box tuples (center, scale)\n",
    "    for i in range(len(result[0].boxes.cls)):\n",
    "        # Get bounding box coordinates\n",
    "        x1, y1, x2, y2 = map(int, result[0].boxes.xyxy[i])\n",
    "\n",
    "        # Calculate the number of pixels per cm and the center of the bounding box\n",
    "        pxl_per_cm = (y2-y1)/avg_mask_box_size  # pixels per cm\n",
    "        box_center_x = (x1+x2)/2  # x center coordinate\n",
    "        box_center_y = (y1+y2)/2  # y center coordinate\n",
    "        boxes.append((pxl_per_cm, box_center_x, box_center_y))  # Add tuple to the list\n",
    "\n",
    "    # Sort the boxes by scale    \n",
    "    boxes_sort_scale = sorted(boxes, key=lambda x: x[0])    # Sort the boxes by scale\n",
    "    for i in range(len(boxes_sort_scale)-1):\n",
    "\n",
    "        # Calculate the distance between the bounding boxes\n",
    "        pxl_distance_x = int(boxes_sort_scale[i+1][1]-boxes_sort_scale[i][1])  # X distance\n",
    "        pxl_distance_y = int(boxes_sort_scale[i+1][2]-boxes_sort_scale[i][2])  # Y distance\n",
    "        avg_scale = int((boxes_sort_scale[i][0] + boxes_sort_scale[i+1][0]) / 2) # Calculate the average scale\n",
    "\n",
    "        # Calculate euclidean distance\n",
    "        distance = (pxl_distance_x**2 + pxl_distance_y**2)**0.5 / avg_scale  # Calculate the distance between the bounding boxes\n",
    "\n",
    "        # Get line start and end points\n",
    "        pt1= (int(boxes_sort_scale[i][1]), int(boxes_sort_scale[i][2]))     # Get the first point\n",
    "        pt2= (int(boxes_sort_scale[i+1][1]), int(boxes_sort_scale[i+1][2])) # Get the second point\n",
    "        pt_middle = (int((pt1[0]+pt2[0])/2), int((pt1[1]+pt2[1])/2))    # Get the middle point\n",
    "\n",
    "        # Check distance threshold\n",
    "        colorcode = (0, 165, 0)\n",
    "        if distance < distance_threshold:\n",
    "            colorcode = (0, 0, 255)\n",
    "\n",
    "        # Add line and text to the frame\n",
    "        cv2.line(frame, pt1, pt2, colorcode, 2)\n",
    "        cv2.putText(frame, f\"{distance:.2f} cm\", pt_middle, cv2.FONT_HERSHEY_SIMPLEX, 1, colorcode, 2)"
   ]
  },
  {
   "cell_type": "markdown",
   "metadata": {},
   "source": [
    "## Class frame fetcher with multithreading"
   ]
  },
  {
   "cell_type": "code",
   "execution_count": 9,
   "metadata": {},
   "outputs": [],
   "source": [
    "import threading\n",
    "\n",
    "class FrameFetcher:\n",
    "    def __init__(self, src=0):\n",
    "        self.cap = cv2.VideoCapture(src)\n",
    "        self.cap.set(cv2.CAP_PROP_FPS, 30)\n",
    "        self.ret, self.frame = self.cap.read()\n",
    "        self.stopped = False\n",
    "        self.lock = threading.Lock()  # Thread safety\n",
    "\n",
    "        # Start the background frame fetching thread\n",
    "        self.thread = threading.Thread(target=self.update, daemon=True)\n",
    "        self.thread.start()\n",
    "\n",
    "    def update(self):\n",
    "        \"\"\"Continuously fetch frames in a separate thread\"\"\"\n",
    "        while not self.stopped:\n",
    "            ret, frame = self.cap.read()\n",
    "            if ret:\n",
    "                with self.lock:  # Ensure thread safety\n",
    "                    self.ret, self.frame = ret, frame\n",
    "\n",
    "    def get_frame(self):\n",
    "        \"\"\"Get the latest available frame\"\"\"\n",
    "        with self.lock:\n",
    "            return self.ret, self.frame\n",
    "\n",
    "    def stop(self):\n",
    "        \"\"\"Stop the background thread and release the camera\"\"\"\n",
    "        self.stopped = True\n",
    "        self.thread.join()\n",
    "        self.cap.release()"
   ]
  },
  {
   "cell_type": "markdown",
   "metadata": {},
   "source": [
    "## Test Webcam as input"
   ]
  },
  {
   "cell_type": "code",
   "execution_count": 10,
   "metadata": {},
   "outputs": [
    {
     "name": "stderr",
     "output_type": "stream",
     "text": [
      "2025-01-30 10:44:12.847 Python[63226:4917998] +[IMKClient subclass]: chose IMKClient_Modern\n",
      "2025-01-30 10:44:12.847 Python[63226:4917998] +[IMKInputSession subclass]: chose IMKInputSession_Modern\n"
     ]
    }
   ],
   "source": [
    "# Set confidence and IOU threshold\n",
    "conf_tresh = 0.3\n",
    "iou_tresh = 0.3\n",
    "pred_framerate = 1\n",
    "model_mask = v11n_mask\n",
    "\n",
    "# Initialize the threaded frame fetcher\n",
    "fetcher = FrameFetcher(0)\n",
    "\n",
    "# Start time and frame counter\n",
    "start_time = time.time()\n",
    "frame_count = 0\n",
    "stats_dict = {}\n",
    "while True:\n",
    "    frame_fetch_time = time.time()    # Start time\n",
    "    ret, frame = fetcher.get_frame()\n",
    "    if not ret:\n",
    "        break\n",
    "    stats_dict[\"Frame fetch time\"] = (time.time() - frame_fetch_time)*1000    # End time\n",
    "\n",
    "    frame_count += 1  # Count total frames\n",
    "    if frame_count == 100:\n",
    "        frame_count = 0\n",
    "        start_time = time.time()\n",
    "\n",
    "    # Check every pred_framerate frames\n",
    "    if frame_count % pred_framerate == 0:\n",
    "        # Perform inference for person and mask models\n",
    "        inf_time = time.time()    # Start time  \n",
    "        result = model_mask(frame, conf=conf_tresh, iou=iou_tresh, stream=True, verbose=False)\n",
    "        result = list(result)   # Convert generator to list\n",
    "        inf_time = (time.time() - inf_time)*1000    # End time\n",
    "        stats_dict[\"Inference time\"] = inf_time\n",
    "\n",
    "    box_time = time.time()    # Start time\n",
    "    # Add bounding boxes to the frame\n",
    "    put_bounding_boxes(frame, result, model_mask, color_static=False)\n",
    "    stats_dict[\"Annotation time\"]=(time.time() - box_time)*1000    # End time\n",
    "\n",
    "    line_time = time.time()    # Start time\n",
    "    # Add distance line to the frame\n",
    "    put_distance_line(frame=frame, result=result, distance_threshold=150, avg_mask_box_size=25)\n",
    "    stats_dict[\"Line time\"]=(time.time() - line_time)*1000    # End time\n",
    "\n",
    "    # Calculate FPS (frames per second)\n",
    "    elapsed_time = time.time() - start_time  # Total time since start\n",
    "    stats_dict[\"FPS\"] = frame_count / elapsed_time  # Frames per second\n",
    "    stats_dict[\"PROP-FPS\"] = fetcher.cap.get(cv2.CAP_PROP_FPS)\n",
    "\n",
    "    # Add stats bar to the frame\n",
    "    put_stats_bar(frame, stats_dict=stats_dict)\n",
    "\n",
    "    # Show the frame\n",
    "    if cv2.waitKey(1) & 0xFF == ord('q'):  # Quit with 'q'\n",
    "        break\n",
    "    cv2.imshow(\"Detections\", frame)\n",
    "\n",
    "    pred_framerate = 5\n",
    "\n",
    "\n",
    "fetcher.stop()\n",
    "cv2.destroyAllWindows()\n",
    "\n",
    "\n"
   ]
  }
 ],
 "metadata": {
  "kernelspec": {
   "display_name": ".venv",
   "language": "python",
   "name": "python3"
  },
  "language_info": {
   "codemirror_mode": {
    "name": "ipython",
    "version": 3
   },
   "file_extension": ".py",
   "mimetype": "text/x-python",
   "name": "python",
   "nbconvert_exporter": "python",
   "pygments_lexer": "ipython3",
   "version": "3.10.0"
  }
 },
 "nbformat": 4,
 "nbformat_minor": 2
}
