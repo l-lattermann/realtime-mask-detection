{
 "cells": [
  {
   "cell_type": "markdown",
   "metadata": {},
   "source": [
    "## Check the file paths"
   ]
  },
  {
   "cell_type": "code",
   "execution_count": 1,
   "metadata": {},
   "outputs": [],
   "source": [
    "import sys\n",
    "from pathlib import Path\n",
    "\n",
    "# Add the project root to the python path\n",
    "PROJECT_ROOT = Path.cwd().parent\n",
    "sys.path.append(str(PROJECT_ROOT))"
   ]
  },
  {
   "cell_type": "markdown",
   "metadata": {},
   "source": [
    "## Imports"
   ]
  },
  {
   "cell_type": "code",
   "execution_count": 2,
   "metadata": {},
   "outputs": [],
   "source": [
    "from ultralytics import YOLO\n",
    "\n",
    "import config"
   ]
  },
  {
   "cell_type": "markdown",
   "metadata": {},
   "source": [
    "## Load model "
   ]
  },
  {
   "cell_type": "code",
   "execution_count": 3,
   "metadata": {},
   "outputs": [],
   "source": [
    "# Load model\n",
    "v8n_person = YOLO(str(config.YOLOV8_PERSON))"
   ]
  },
  {
   "cell_type": "code",
   "execution_count": 4,
   "metadata": {},
   "outputs": [
    {
     "name": "stdout",
     "output_type": "stream",
     "text": [
      "\n",
      "image 1/1 /Users/lau/Documents/UNI/3. Semester/Project Computer Vision/project/My Project/data_sets/image_data/mask_person_test/1.jpg: 384x640 10 Personas, 33.4ms\n",
      "Speed: 1.3ms preprocess, 33.4ms inference, 0.4ms postprocess per image at shape (1, 3, 384, 640)\n",
      "1\n",
      "<class 'list'>\n",
      "<class 'ultralytics.engine.results.Results'>\n",
      "{'preprocess': 1.2960433959960938, 'inference': 33.42890739440918, 'postprocess': 0.39386749267578125}\n",
      "tensor([0., 0., 0., 0., 0., 0., 0., 0., 0., 0.])\n",
      "tensor([0.9333, 0.9226, 0.8574, 0.7825, 0.7179, 0.7162, 0.6836, 0.3954, 0.3260, 0.3229])\n",
      "10\n",
      "class: 0.0, confidence: 0.9333094954490662\n",
      "((0, 255, 0),)\n",
      "class: 0.0, confidence: 0.9226464033126831\n",
      "((0, 255, 0),)\n",
      "class: 0.0, confidence: 0.8573698997497559\n",
      "((0, 255, 0),)\n",
      "class: 0.0, confidence: 0.7824667692184448\n",
      "((0, 255, 0),)\n",
      "class: 0.0, confidence: 0.7178906202316284\n",
      "((0, 255, 0),)\n",
      "class: 0.0, confidence: 0.7161672711372375\n",
      "((0, 255, 0),)\n",
      "class: 0.0, confidence: 0.68358314037323\n",
      "((0, 255, 0),)\n",
      "class: 0.0, confidence: 0.39535632729530334\n",
      "((0, 255, 0),)\n",
      "class: 0.0, confidence: 0.3259548544883728\n",
      "((0, 255, 0),)\n",
      "class: 0.0, confidence: 0.3228999078273773\n",
      "((0, 255, 0),)\n"
     ]
    }
   ],
   "source": [
    "model = v8n_person\n",
    "# Set confidence and IOU threshold\n",
    "conf = 0.3\n",
    "iou = 0.3\n",
    "\n",
    "results = model.predict(f\"{config.MASK_PERSON_TEST_DIR}/1.jpg\", conf=conf, iou=iou)\n",
    "\n",
    "print(len(results))\n",
    "print(type(results))\n",
    "print(type(results[0]))\n",
    "print(results[0].speed)\n",
    "print(results[0].boxes.cls)\n",
    "print(results[0].boxes.conf)\n",
    "print(len(results[0].boxes.cls))\n",
    "\n",
    "for i in range(len(results[0].boxes.cls)):\n",
    "    print(f\"class: {results[0].boxes.cls[i]}, confidence: {results[0].boxes.conf[i]}\")\n",
    "\n",
    "    x1, y1, x2, y2 = map(int, results[0].boxes.xyxy[i])\n",
    "    clss, conf = results[0].boxes.cls[i], results[0].boxes.conf[i]\n",
    "\n",
    "    if int(clss) == 0:\n",
    "        colorcode = (0, 255, 0),\n",
    "    elif int(clss) == 1:\n",
    "        colorcode = (0, 0, 255)\n",
    "    elif int(clss) == 2:\n",
    "        colorcode = (255, 165, 0)\n",
    "\n",
    "    print(colorcode)"
   ]
  }
 ],
 "metadata": {
  "kernelspec": {
   "display_name": ".venv",
   "language": "python",
   "name": "python3"
  },
  "language_info": {
   "codemirror_mode": {
    "name": "ipython",
    "version": 3
   },
   "file_extension": ".py",
   "mimetype": "text/x-python",
   "name": "python",
   "nbconvert_exporter": "python",
   "pygments_lexer": "ipython3",
   "version": "3.10.0"
  }
 },
 "nbformat": 4,
 "nbformat_minor": 2
}
