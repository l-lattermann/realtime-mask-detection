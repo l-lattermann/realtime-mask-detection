{
 "cells": [
  {
   "cell_type": "code",
   "execution_count": 1,
   "metadata": {},
   "outputs": [],
   "source": [
    "from ultralytics import YOLO"
   ]
  },
  {
   "cell_type": "code",
   "execution_count": 2,
   "metadata": {},
   "outputs": [],
   "source": [
    "# Load models\n",
    "v8n_person = YOLO(\"train_runs/yolov8n_person_100epochs/detect/train/weights/best.pt\")\n",
    "v8n_mask = YOLO(\"train_runs/yolov8n_mask_100epochs/train/weights/best.pt\")\n",
    "v11n_person = YOLO(\"train_runs/yolo11n_person_100epochs/train/weights/best.pt\")\n",
    "v11n_mask = YOLO(\"train_runs/yolo11n_mask_100epochs/train/weights/best.pt\")\n",
    "\n",
    "# Create model list\n",
    "model_dict = {\"v8n_person\":v8n_person, \"v8n_mask\":v8n_mask, \"v11n_person\":v11n_person, \"v11n_mask\":v11n_mask}"
   ]
  },
  {
   "cell_type": "code",
   "execution_count": 27,
   "metadata": {},
   "outputs": [
    {
     "name": "stdout",
     "output_type": "stream",
     "text": [
      "\n",
      "image 1/1 /Users/lau/Documents/UNI/3. Semester/Project Computer Vision/My Project/data_sets/image_data/mask_person_test/1.jpg: 384x640 10 Personas, 29.1ms\n",
      "Speed: 2.0ms preprocess, 29.1ms inference, 0.3ms postprocess per image at shape (1, 3, 384, 640)\n",
      "1\n",
      "<class 'list'>\n",
      "<class 'ultralytics.engine.results.Results'>\n",
      "{'preprocess': 1.9741058349609375, 'inference': 29.130935668945312, 'postprocess': 0.27871131896972656}\n",
      "tensor([0., 0., 0., 0., 0., 0., 0., 0., 0., 0.])\n",
      "tensor([0.9333, 0.9226, 0.8574, 0.7825, 0.7179, 0.7162, 0.6836, 0.3954, 0.3260, 0.3229])\n",
      "10\n",
      "class: 0.0, confidence: 0.9333094954490662\n",
      "((0, 255, 0),)\n",
      "class: 0.0, confidence: 0.9226464033126831\n",
      "((0, 255, 0),)\n",
      "class: 0.0, confidence: 0.8573698997497559\n",
      "((0, 255, 0),)\n",
      "class: 0.0, confidence: 0.7824667692184448\n",
      "((0, 255, 0),)\n",
      "class: 0.0, confidence: 0.7178906202316284\n",
      "((0, 255, 0),)\n",
      "class: 0.0, confidence: 0.7161672711372375\n",
      "((0, 255, 0),)\n",
      "class: 0.0, confidence: 0.68358314037323\n",
      "((0, 255, 0),)\n",
      "class: 0.0, confidence: 0.39535632729530334\n",
      "((0, 255, 0),)\n",
      "class: 0.0, confidence: 0.3259548544883728\n",
      "((0, 255, 0),)\n",
      "class: 0.0, confidence: 0.3228999078273773\n",
      "((0, 255, 0),)\n"
     ]
    }
   ],
   "source": [
    "model = v8n_person\n",
    "# Set confidence and IOU threshold\n",
    "conf = 0.3\n",
    "iou = 0.3\n",
    "\n",
    "results = model.predict(f\"data_sets/image_data/mask_person_test/1.jpg\", conf=conf, iou=iou)\n",
    "\n",
    "print(len(results))\n",
    "print(type(results))\n",
    "print(type(results[0]))\n",
    "print(results[0].speed)\n",
    "print(results[0].boxes.cls)\n",
    "print(results[0].boxes.conf)\n",
    "print(len(results[0].boxes.cls))\n",
    "\n",
    "for i in range(len(results[0].boxes.cls)):\n",
    "    print(f\"class: {results[0].boxes.cls[i]}, confidence: {results[0].boxes.conf[i]}\")\n",
    "\n",
    "    x1, y1, x2, y2 = map(int, results[0].boxes.xyxy[i])\n",
    "    clss, conf = results[0].boxes.cls[i], results[0].boxes.conf[i]\n",
    "\n",
    "    if int(clss) == 0:\n",
    "        colorcode = (0, 255, 0),\n",
    "    elif int(clss) == 1:\n",
    "        colorcode = (0, 0, 255)\n",
    "    elif int(clss) == 2:\n",
    "        colorcode = (255, 165, 0)\n",
    "\n",
    "    print(colorcode)"
   ]
  }
 ],
 "metadata": {
  "kernelspec": {
   "display_name": ".venv",
   "language": "python",
   "name": "python3"
  },
  "language_info": {
   "codemirror_mode": {
    "name": "ipython",
    "version": 3
   },
   "file_extension": ".py",
   "mimetype": "text/x-python",
   "name": "python",
   "nbconvert_exporter": "python",
   "pygments_lexer": "ipython3",
   "version": "3.9.6"
  }
 },
 "nbformat": 4,
 "nbformat_minor": 2
}
